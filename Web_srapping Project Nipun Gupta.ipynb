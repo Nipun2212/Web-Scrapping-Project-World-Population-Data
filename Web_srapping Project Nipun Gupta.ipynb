{
 "cells": [
  {
   "cell_type": "markdown",
   "id": "aaa0d81e",
   "metadata": {},
   "source": [
    "## Scrapping World Population Data from Worldometer website "
   ]
  },
  {
   "cell_type": "markdown",
   "id": "09399f37",
   "metadata": {},
   "source": [
    "# Introduction:\n",
    "## Below is a sortable list of countries by their population scrapped from worldometer.info website on 03 may 2022. There are 235 countries along with their population. And there are 11 columns each representing different features of countries.\n",
    "\n"
   ]
  },
  {
   "cell_type": "markdown",
   "id": "bc41928a",
   "metadata": {},
   "source": [
    "### Importing required Libraries"
   ]
  },
  {
   "cell_type": "code",
   "execution_count": 70,
   "id": "a57e55de",
   "metadata": {},
   "outputs": [],
   "source": [
    "import requests\n",
    "from bs4 import BeautifulSoup\n",
    "import numpy as np\n",
    "import pandas as pd\n",
    "import matplotlib.pyplot as plt\n",
    "%matplotlib inline  \n",
    "import seaborn as sns\n",
    "plt.style.use(\"seaborn\")"
   ]
  },
  {
   "cell_type": "code",
   "execution_count": null,
   "id": "2d4d2011",
   "metadata": {},
   "outputs": [],
   "source": [
    "url = 'https://www.worldometers.info/world-population/population-by-country/'\n",
    "requests.get(url)\n",
    "page = requests.get(url)\n",
    "\n",
    "soup = BeautifulSoup(page.text, 'lxml')\n",
    "print(soup)\n",
    "\n",
    "table_data = soup.find('table', class_ = 'table table-striped table-bordered')\n",
    "\n",
    "headers = []\n",
    "for i in table_data.find_all('th'):\n",
    "    title = i.text\n",
    "    headers.append(title)\n",
    "\n",
    "data = pd.DataFrame(columns = headers)\n",
    "print(data)\n",
    "\n",
    "for j in table_data.find_all('tr')[1:]:\n",
    "        row_data = j.find_all('td')\n",
    "        row = [tr.text for tr in row_data]\n",
    "        length = len(data)\n",
    "        data.loc[length] = row\n",
    "        \n",
    "print (data)"
   ]
  },
  {
   "cell_type": "markdown",
   "id": "96685699",
   "metadata": {},
   "source": [
    "### Basic Inspection of the Scrapped Data"
   ]
  },
  {
   "cell_type": "code",
   "execution_count": 23,
   "id": "7a33d669",
   "metadata": {},
   "outputs": [
    {
     "data": {
      "text/plain": [
       "(235, 12)"
      ]
     },
     "execution_count": 23,
     "metadata": {},
     "output_type": "execute_result"
    }
   ],
   "source": [
    "data.shape"
   ]
  },
  {
   "cell_type": "code",
   "execution_count": 24,
   "id": "bdd5d0a2",
   "metadata": {},
   "outputs": [
    {
     "data": {
      "text/html": [
       "<div>\n",
       "<style scoped>\n",
       "    .dataframe tbody tr th:only-of-type {\n",
       "        vertical-align: middle;\n",
       "    }\n",
       "\n",
       "    .dataframe tbody tr th {\n",
       "        vertical-align: top;\n",
       "    }\n",
       "\n",
       "    .dataframe thead th {\n",
       "        text-align: right;\n",
       "    }\n",
       "</style>\n",
       "<table border=\"1\" class=\"dataframe\">\n",
       "  <thead>\n",
       "    <tr style=\"text-align: right;\">\n",
       "      <th></th>\n",
       "      <th>#</th>\n",
       "      <th>Country (or dependency)</th>\n",
       "      <th>Population (2020)</th>\n",
       "      <th>Yearly Change</th>\n",
       "      <th>Net Change</th>\n",
       "      <th>Density (P/Km²)</th>\n",
       "      <th>Land Area (Km²)</th>\n",
       "      <th>Migrants (net)</th>\n",
       "      <th>Fert. Rate</th>\n",
       "      <th>Med. Age</th>\n",
       "      <th>Urban Pop %</th>\n",
       "      <th>World Share</th>\n",
       "    </tr>\n",
       "  </thead>\n",
       "  <tbody>\n",
       "    <tr>\n",
       "      <th>0</th>\n",
       "      <td>1</td>\n",
       "      <td>China</td>\n",
       "      <td>1,439,323,776</td>\n",
       "      <td>0.39 %</td>\n",
       "      <td>5,540,090</td>\n",
       "      <td>153</td>\n",
       "      <td>9,388,211</td>\n",
       "      <td>-348,399</td>\n",
       "      <td>1.7</td>\n",
       "      <td>38</td>\n",
       "      <td>61 %</td>\n",
       "      <td>18.47 %</td>\n",
       "    </tr>\n",
       "    <tr>\n",
       "      <th>1</th>\n",
       "      <td>2</td>\n",
       "      <td>India</td>\n",
       "      <td>1,380,004,385</td>\n",
       "      <td>0.99 %</td>\n",
       "      <td>13,586,631</td>\n",
       "      <td>464</td>\n",
       "      <td>2,973,190</td>\n",
       "      <td>-532,687</td>\n",
       "      <td>2.2</td>\n",
       "      <td>28</td>\n",
       "      <td>35 %</td>\n",
       "      <td>17.70 %</td>\n",
       "    </tr>\n",
       "    <tr>\n",
       "      <th>2</th>\n",
       "      <td>3</td>\n",
       "      <td>United States</td>\n",
       "      <td>331,002,651</td>\n",
       "      <td>0.59 %</td>\n",
       "      <td>1,937,734</td>\n",
       "      <td>36</td>\n",
       "      <td>9,147,420</td>\n",
       "      <td>954,806</td>\n",
       "      <td>1.8</td>\n",
       "      <td>38</td>\n",
       "      <td>83 %</td>\n",
       "      <td>4.25 %</td>\n",
       "    </tr>\n",
       "    <tr>\n",
       "      <th>3</th>\n",
       "      <td>4</td>\n",
       "      <td>Indonesia</td>\n",
       "      <td>273,523,615</td>\n",
       "      <td>1.07 %</td>\n",
       "      <td>2,898,047</td>\n",
       "      <td>151</td>\n",
       "      <td>1,811,570</td>\n",
       "      <td>-98,955</td>\n",
       "      <td>2.3</td>\n",
       "      <td>30</td>\n",
       "      <td>56 %</td>\n",
       "      <td>3.51 %</td>\n",
       "    </tr>\n",
       "    <tr>\n",
       "      <th>4</th>\n",
       "      <td>5</td>\n",
       "      <td>Pakistan</td>\n",
       "      <td>220,892,340</td>\n",
       "      <td>2.00 %</td>\n",
       "      <td>4,327,022</td>\n",
       "      <td>287</td>\n",
       "      <td>770,880</td>\n",
       "      <td>-233,379</td>\n",
       "      <td>3.6</td>\n",
       "      <td>23</td>\n",
       "      <td>35 %</td>\n",
       "      <td>2.83 %</td>\n",
       "    </tr>\n",
       "  </tbody>\n",
       "</table>\n",
       "</div>"
      ],
      "text/plain": [
       "   # Country (or dependency) Population (2020) Yearly Change  Net Change  \\\n",
       "0  1                   China     1,439,323,776        0.39 %   5,540,090   \n",
       "1  2                   India     1,380,004,385        0.99 %  13,586,631   \n",
       "2  3           United States       331,002,651        0.59 %   1,937,734   \n",
       "3  4               Indonesia       273,523,615        1.07 %   2,898,047   \n",
       "4  5                Pakistan       220,892,340        2.00 %   4,327,022   \n",
       "\n",
       "  Density (P/Km²) Land Area (Km²) Migrants (net) Fert. Rate Med. Age  \\\n",
       "0             153       9,388,211       -348,399        1.7       38   \n",
       "1             464       2,973,190       -532,687        2.2       28   \n",
       "2              36       9,147,420        954,806        1.8       38   \n",
       "3             151       1,811,570        -98,955        2.3       30   \n",
       "4             287         770,880       -233,379        3.6       23   \n",
       "\n",
       "  Urban Pop % World Share  \n",
       "0        61 %     18.47 %  \n",
       "1        35 %     17.70 %  \n",
       "2        83 %      4.25 %  \n",
       "3        56 %      3.51 %  \n",
       "4        35 %      2.83 %  "
      ]
     },
     "execution_count": 24,
     "metadata": {},
     "output_type": "execute_result"
    }
   ],
   "source": [
    "data.head()"
   ]
  },
  {
   "cell_type": "code",
   "execution_count": 8,
   "id": "a95c1c87",
   "metadata": {},
   "outputs": [
    {
     "data": {
      "text/plain": [
       "#                          object\n",
       "Country (or dependency)    object\n",
       "Population (2020)          object\n",
       "Yearly Change              object\n",
       "Net Change                 object\n",
       "Density (P/Km²)            object\n",
       "Land Area (Km²)            object\n",
       "Migrants (net)             object\n",
       "Fert. Rate                 object\n",
       "Med. Age                   object\n",
       "Urban Pop %                object\n",
       "World Share                object\n",
       "dtype: object"
      ]
     },
     "execution_count": 8,
     "metadata": {},
     "output_type": "execute_result"
    }
   ],
   "source": [
    "data.dtypes"
   ]
  },
  {
   "cell_type": "code",
   "execution_count": 10,
   "id": "aafe701c",
   "metadata": {},
   "outputs": [
    {
     "name": "stdout",
     "output_type": "stream",
     "text": [
      "<class 'pandas.core.frame.DataFrame'>\n",
      "Int64Index: 235 entries, 0 to 234\n",
      "Data columns (total 12 columns):\n",
      " #   Column                   Non-Null Count  Dtype \n",
      "---  ------                   --------------  ----- \n",
      " 0   #                        235 non-null    object\n",
      " 1   Country (or dependency)  235 non-null    object\n",
      " 2   Population (2020)        235 non-null    object\n",
      " 3   Yearly Change            235 non-null    object\n",
      " 4   Net Change               235 non-null    object\n",
      " 5   Density (P/Km²)          235 non-null    object\n",
      " 6   Land Area (Km²)          235 non-null    object\n",
      " 7   Migrants (net)           235 non-null    object\n",
      " 8   Fert. Rate               235 non-null    object\n",
      " 9   Med. Age                 235 non-null    object\n",
      " 10  Urban Pop %              235 non-null    object\n",
      " 11  World Share              235 non-null    object\n",
      "dtypes: object(12)\n",
      "memory usage: 23.9+ KB\n"
     ]
    }
   ],
   "source": [
    "data.info()"
   ]
  },
  {
   "cell_type": "markdown",
   "id": "19fec2e6",
   "metadata": {},
   "source": [
    "### Taking a look into the data Scrapped from the website there are few issues such as all numeric columns are read as object or category by python. This is because the numbers are entered as string and there are comma's and percentage sign present in few of the columns. "
   ]
  },
  {
   "cell_type": "markdown",
   "id": "b6344f4c",
   "metadata": {},
   "source": [
    "### Basic Data Cleaning"
   ]
  },
  {
   "cell_type": "code",
   "execution_count": 18,
   "id": "1f742a35",
   "metadata": {},
   "outputs": [],
   "source": [
    "data.replace(',','',regex=True, inplace = True)\n",
    "data['Population (2020)'] = pd.to_numeric(data['Population (2020)'])"
   ]
  },
  {
   "cell_type": "code",
   "execution_count": 21,
   "id": "c6ba59d1",
   "metadata": {},
   "outputs": [],
   "source": [
    "data.replace('%','',regex=True, inplace = True)"
   ]
  },
  {
   "cell_type": "code",
   "execution_count": 22,
   "id": "da82d389",
   "metadata": {},
   "outputs": [
    {
     "data": {
      "text/html": [
       "<div>\n",
       "<style scoped>\n",
       "    .dataframe tbody tr th:only-of-type {\n",
       "        vertical-align: middle;\n",
       "    }\n",
       "\n",
       "    .dataframe tbody tr th {\n",
       "        vertical-align: top;\n",
       "    }\n",
       "\n",
       "    .dataframe thead th {\n",
       "        text-align: right;\n",
       "    }\n",
       "</style>\n",
       "<table border=\"1\" class=\"dataframe\">\n",
       "  <thead>\n",
       "    <tr style=\"text-align: right;\">\n",
       "      <th></th>\n",
       "      <th>#</th>\n",
       "      <th>Country (or dependency)</th>\n",
       "      <th>Population (2020)</th>\n",
       "      <th>Yearly Change</th>\n",
       "      <th>Net Change</th>\n",
       "      <th>Density (P/Km²)</th>\n",
       "      <th>Land Area (Km²)</th>\n",
       "      <th>Migrants (net)</th>\n",
       "      <th>Fert. Rate</th>\n",
       "      <th>Med. Age</th>\n",
       "      <th>Urban Pop %</th>\n",
       "      <th>World Share</th>\n",
       "    </tr>\n",
       "  </thead>\n",
       "  <tbody>\n",
       "    <tr>\n",
       "      <th>0</th>\n",
       "      <td>1</td>\n",
       "      <td>China</td>\n",
       "      <td>1439323776</td>\n",
       "      <td>0.39</td>\n",
       "      <td>5540090</td>\n",
       "      <td>153</td>\n",
       "      <td>9388211</td>\n",
       "      <td>-348399</td>\n",
       "      <td>1.7</td>\n",
       "      <td>38</td>\n",
       "      <td>61</td>\n",
       "      <td>18.47</td>\n",
       "    </tr>\n",
       "    <tr>\n",
       "      <th>1</th>\n",
       "      <td>2</td>\n",
       "      <td>India</td>\n",
       "      <td>1380004385</td>\n",
       "      <td>0.99</td>\n",
       "      <td>13586631</td>\n",
       "      <td>464</td>\n",
       "      <td>2973190</td>\n",
       "      <td>-532687</td>\n",
       "      <td>2.2</td>\n",
       "      <td>28</td>\n",
       "      <td>35</td>\n",
       "      <td>17.70</td>\n",
       "    </tr>\n",
       "    <tr>\n",
       "      <th>2</th>\n",
       "      <td>3</td>\n",
       "      <td>United States</td>\n",
       "      <td>331002651</td>\n",
       "      <td>0.59</td>\n",
       "      <td>1937734</td>\n",
       "      <td>36</td>\n",
       "      <td>9147420</td>\n",
       "      <td>954806</td>\n",
       "      <td>1.8</td>\n",
       "      <td>38</td>\n",
       "      <td>83</td>\n",
       "      <td>4.25</td>\n",
       "    </tr>\n",
       "    <tr>\n",
       "      <th>3</th>\n",
       "      <td>4</td>\n",
       "      <td>Indonesia</td>\n",
       "      <td>273523615</td>\n",
       "      <td>1.07</td>\n",
       "      <td>2898047</td>\n",
       "      <td>151</td>\n",
       "      <td>1811570</td>\n",
       "      <td>-98955</td>\n",
       "      <td>2.3</td>\n",
       "      <td>30</td>\n",
       "      <td>56</td>\n",
       "      <td>3.51</td>\n",
       "    </tr>\n",
       "    <tr>\n",
       "      <th>4</th>\n",
       "      <td>5</td>\n",
       "      <td>Pakistan</td>\n",
       "      <td>220892340</td>\n",
       "      <td>2.00</td>\n",
       "      <td>4327022</td>\n",
       "      <td>287</td>\n",
       "      <td>770880</td>\n",
       "      <td>-233379</td>\n",
       "      <td>3.6</td>\n",
       "      <td>23</td>\n",
       "      <td>35</td>\n",
       "      <td>2.83</td>\n",
       "    </tr>\n",
       "  </tbody>\n",
       "</table>\n",
       "</div>"
      ],
      "text/plain": [
       "   # Country (or dependency)  Population (2020) Yearly Change Net Change  \\\n",
       "0  1                   China         1439323776         0.39     5540090   \n",
       "1  2                   India         1380004385         0.99    13586631   \n",
       "2  3           United States          331002651         0.59     1937734   \n",
       "3  4               Indonesia          273523615         1.07     2898047   \n",
       "4  5                Pakistan          220892340         2.00     4327022   \n",
       "\n",
       "  Density (P/Km²) Land Area (Km²) Migrants (net) Fert. Rate Med. Age  \\\n",
       "0             153         9388211        -348399        1.7       38   \n",
       "1             464         2973190        -532687        2.2       28   \n",
       "2              36         9147420         954806        1.8       38   \n",
       "3             151         1811570         -98955        2.3       30   \n",
       "4             287          770880        -233379        3.6       23   \n",
       "\n",
       "  Urban Pop % World Share  \n",
       "0         61       18.47   \n",
       "1         35       17.70   \n",
       "2         83        4.25   \n",
       "3         56        3.51   \n",
       "4         35        2.83   "
      ]
     },
     "execution_count": 22,
     "metadata": {},
     "output_type": "execute_result"
    }
   ],
   "source": [
    "data.head()"
   ]
  },
  {
   "cell_type": "code",
   "execution_count": 24,
   "id": "7cd0c80e",
   "metadata": {},
   "outputs": [
    {
     "name": "stdout",
     "output_type": "stream",
     "text": [
      "<class 'pandas.core.frame.DataFrame'>\n",
      "Int64Index: 235 entries, 0 to 234\n",
      "Data columns (total 12 columns):\n",
      " #   Column                   Non-Null Count  Dtype \n",
      "---  ------                   --------------  ----- \n",
      " 0   #                        235 non-null    object\n",
      " 1   Country (or dependency)  235 non-null    object\n",
      " 2   Population (2020)        235 non-null    int64 \n",
      " 3   Yearly Change            235 non-null    object\n",
      " 4   Net Change               235 non-null    object\n",
      " 5   Density (P/Km²)          235 non-null    object\n",
      " 6   Land Area (Km²)          235 non-null    object\n",
      " 7   Migrants (net)           235 non-null    object\n",
      " 8   Fert. Rate               235 non-null    object\n",
      " 9   Med. Age                 235 non-null    object\n",
      " 10  Urban Pop %              235 non-null    object\n",
      " 11  World Share              235 non-null    object\n",
      "dtypes: int64(1), object(11)\n",
      "memory usage: 23.9+ KB\n"
     ]
    }
   ],
   "source": [
    "data.info()"
   ]
  },
  {
   "cell_type": "code",
   "execution_count": 50,
   "id": "85f8f616",
   "metadata": {},
   "outputs": [],
   "source": [
    "#Converting population to numeric data-type\n",
    "data['Population (2020)'] = pd.to_numeric(data['Population (2020)'])"
   ]
  },
  {
   "cell_type": "code",
   "execution_count": 28,
   "id": "d8b9b5c5",
   "metadata": {},
   "outputs": [],
   "source": [
    "# making list of all numeric columns\n",
    "cols = data.columns.drop('#')\n",
    "cols = data.columns.drop('Country (or dependency)')"
   ]
  },
  {
   "cell_type": "code",
   "execution_count": 29,
   "id": "b941e9ba",
   "metadata": {},
   "outputs": [],
   "source": [
    "# converting data types of all columns to numeric\n",
    "data[cols] = data[cols].apply(pd.to_numeric, errors='coerce')"
   ]
  },
  {
   "cell_type": "code",
   "execution_count": 51,
   "id": "3d1610a5",
   "metadata": {},
   "outputs": [
    {
     "name": "stdout",
     "output_type": "stream",
     "text": [
      "<class 'pandas.core.frame.DataFrame'>\n",
      "Int64Index: 235 entries, 0 to 234\n",
      "Data columns (total 11 columns):\n",
      " #   Column                   Non-Null Count  Dtype  \n",
      "---  ------                   --------------  -----  \n",
      " 0   Country (or dependency)  235 non-null    object \n",
      " 1   Population (2020)        235 non-null    int64  \n",
      " 2   Yearly Change            235 non-null    float64\n",
      " 3   Net Change               235 non-null    int64  \n",
      " 4   Density (P/Km²)          235 non-null    int64  \n",
      " 5   Land Area (Km²)          235 non-null    int64  \n",
      " 6   Migrants (net)           201 non-null    float64\n",
      " 7   Fert. Rate               201 non-null    float64\n",
      " 8   Med. Age                 201 non-null    float64\n",
      " 9   Urban Pop %              222 non-null    float64\n",
      " 10  World Share              235 non-null    float64\n",
      "dtypes: float64(6), int64(4), object(1)\n",
      "memory usage: 22.0+ KB\n"
     ]
    }
   ],
   "source": [
    "# Checking Data-type of each column after converting \n",
    "data.info()"
   ]
  },
  {
   "cell_type": "code",
   "execution_count": 31,
   "id": "09a784a3",
   "metadata": {},
   "outputs": [],
   "source": [
    "# Dropping Extra index column\n",
    "data = data.drop('#',axis=1)"
   ]
  },
  {
   "cell_type": "markdown",
   "id": "4d600975",
   "metadata": {},
   "source": [
    "### Glimpse of Dataset"
   ]
  },
  {
   "cell_type": "code",
   "execution_count": 32,
   "id": "da35b600",
   "metadata": {},
   "outputs": [
    {
     "data": {
      "text/html": [
       "<div>\n",
       "<style scoped>\n",
       "    .dataframe tbody tr th:only-of-type {\n",
       "        vertical-align: middle;\n",
       "    }\n",
       "\n",
       "    .dataframe tbody tr th {\n",
       "        vertical-align: top;\n",
       "    }\n",
       "\n",
       "    .dataframe thead th {\n",
       "        text-align: right;\n",
       "    }\n",
       "</style>\n",
       "<table border=\"1\" class=\"dataframe\">\n",
       "  <thead>\n",
       "    <tr style=\"text-align: right;\">\n",
       "      <th></th>\n",
       "      <th>Country (or dependency)</th>\n",
       "      <th>Population (2020)</th>\n",
       "      <th>Yearly Change</th>\n",
       "      <th>Net Change</th>\n",
       "      <th>Density (P/Km²)</th>\n",
       "      <th>Land Area (Km²)</th>\n",
       "      <th>Migrants (net)</th>\n",
       "      <th>Fert. Rate</th>\n",
       "      <th>Med. Age</th>\n",
       "      <th>Urban Pop %</th>\n",
       "      <th>World Share</th>\n",
       "    </tr>\n",
       "  </thead>\n",
       "  <tbody>\n",
       "    <tr>\n",
       "      <th>0</th>\n",
       "      <td>China</td>\n",
       "      <td>1439323776</td>\n",
       "      <td>0.39</td>\n",
       "      <td>5540090</td>\n",
       "      <td>153</td>\n",
       "      <td>9388211</td>\n",
       "      <td>-348399.0</td>\n",
       "      <td>1.7</td>\n",
       "      <td>38.0</td>\n",
       "      <td>61.0</td>\n",
       "      <td>18.47</td>\n",
       "    </tr>\n",
       "    <tr>\n",
       "      <th>1</th>\n",
       "      <td>India</td>\n",
       "      <td>1380004385</td>\n",
       "      <td>0.99</td>\n",
       "      <td>13586631</td>\n",
       "      <td>464</td>\n",
       "      <td>2973190</td>\n",
       "      <td>-532687.0</td>\n",
       "      <td>2.2</td>\n",
       "      <td>28.0</td>\n",
       "      <td>35.0</td>\n",
       "      <td>17.70</td>\n",
       "    </tr>\n",
       "    <tr>\n",
       "      <th>2</th>\n",
       "      <td>United States</td>\n",
       "      <td>331002651</td>\n",
       "      <td>0.59</td>\n",
       "      <td>1937734</td>\n",
       "      <td>36</td>\n",
       "      <td>9147420</td>\n",
       "      <td>954806.0</td>\n",
       "      <td>1.8</td>\n",
       "      <td>38.0</td>\n",
       "      <td>83.0</td>\n",
       "      <td>4.25</td>\n",
       "    </tr>\n",
       "    <tr>\n",
       "      <th>3</th>\n",
       "      <td>Indonesia</td>\n",
       "      <td>273523615</td>\n",
       "      <td>1.07</td>\n",
       "      <td>2898047</td>\n",
       "      <td>151</td>\n",
       "      <td>1811570</td>\n",
       "      <td>-98955.0</td>\n",
       "      <td>2.3</td>\n",
       "      <td>30.0</td>\n",
       "      <td>56.0</td>\n",
       "      <td>3.51</td>\n",
       "    </tr>\n",
       "    <tr>\n",
       "      <th>4</th>\n",
       "      <td>Pakistan</td>\n",
       "      <td>220892340</td>\n",
       "      <td>2.00</td>\n",
       "      <td>4327022</td>\n",
       "      <td>287</td>\n",
       "      <td>770880</td>\n",
       "      <td>-233379.0</td>\n",
       "      <td>3.6</td>\n",
       "      <td>23.0</td>\n",
       "      <td>35.0</td>\n",
       "      <td>2.83</td>\n",
       "    </tr>\n",
       "  </tbody>\n",
       "</table>\n",
       "</div>"
      ],
      "text/plain": [
       "  Country (or dependency)  Population (2020)  Yearly Change  Net Change  \\\n",
       "0                   China         1439323776           0.39     5540090   \n",
       "1                   India         1380004385           0.99    13586631   \n",
       "2           United States          331002651           0.59     1937734   \n",
       "3               Indonesia          273523615           1.07     2898047   \n",
       "4                Pakistan          220892340           2.00     4327022   \n",
       "\n",
       "   Density (P/Km²)  Land Area (Km²)  Migrants (net)  Fert. Rate  Med. Age  \\\n",
       "0              153          9388211       -348399.0         1.7      38.0   \n",
       "1              464          2973190       -532687.0         2.2      28.0   \n",
       "2               36          9147420        954806.0         1.8      38.0   \n",
       "3              151          1811570        -98955.0         2.3      30.0   \n",
       "4              287           770880       -233379.0         3.6      23.0   \n",
       "\n",
       "   Urban Pop %  World Share  \n",
       "0         61.0        18.47  \n",
       "1         35.0        17.70  \n",
       "2         83.0         4.25  \n",
       "3         56.0         3.51  \n",
       "4         35.0         2.83  "
      ]
     },
     "execution_count": 32,
     "metadata": {},
     "output_type": "execute_result"
    }
   ],
   "source": [
    "data.head()"
   ]
  },
  {
   "cell_type": "markdown",
   "id": "988e63ec",
   "metadata": {},
   "source": [
    "### Inspecting the shape of the dataset"
   ]
  },
  {
   "cell_type": "code",
   "execution_count": 48,
   "id": "8b07706b",
   "metadata": {},
   "outputs": [
    {
     "name": "stdout",
     "output_type": "stream",
     "text": [
      "The dataset has 235 rows and 11 columns\n"
     ]
    }
   ],
   "source": [
    "data.shape\n",
    "print(f'The dataset has {data.shape[0]} rows and {data.shape[1]} columns')"
   ]
  },
  {
   "cell_type": "markdown",
   "id": "998f6308",
   "metadata": {},
   "source": [
    "### Missing Value check in dataset"
   ]
  },
  {
   "cell_type": "code",
   "execution_count": 34,
   "id": "21d0f2f6",
   "metadata": {},
   "outputs": [
    {
     "data": {
      "text/plain": [
       "Country (or dependency)     0\n",
       "Population (2020)           0\n",
       "Yearly Change               0\n",
       "Net Change                  0\n",
       "Density (P/Km²)             0\n",
       "Land Area (Km²)             0\n",
       "Migrants (net)             34\n",
       "Fert. Rate                 34\n",
       "Med. Age                   34\n",
       "Urban Pop %                13\n",
       "World Share                 0\n",
       "dtype: int64"
      ]
     },
     "execution_count": 34,
     "metadata": {},
     "output_type": "execute_result"
    }
   ],
   "source": [
    "data.isnull().sum()"
   ]
  },
  {
   "cell_type": "markdown",
   "id": "39b142cb",
   "metadata": {},
   "source": [
    "There are 34 missing values in migrants, fert. rate and med. age column. and 13 missing values in Urban population %."
   ]
  },
  {
   "cell_type": "markdown",
   "id": "343eb509",
   "metadata": {},
   "source": [
    "### Top three countries based on the density column."
   ]
  },
  {
   "cell_type": "code",
   "execution_count": 47,
   "id": "1ce944f5",
   "metadata": {},
   "outputs": [
    {
     "data": {
      "text/html": [
       "<div>\n",
       "<style scoped>\n",
       "    .dataframe tbody tr th:only-of-type {\n",
       "        vertical-align: middle;\n",
       "    }\n",
       "\n",
       "    .dataframe tbody tr th {\n",
       "        vertical-align: top;\n",
       "    }\n",
       "\n",
       "    .dataframe thead th {\n",
       "        text-align: right;\n",
       "    }\n",
       "</style>\n",
       "<table border=\"1\" class=\"dataframe\">\n",
       "  <thead>\n",
       "    <tr style=\"text-align: right;\">\n",
       "      <th></th>\n",
       "      <th>Country (or dependency)</th>\n",
       "      <th>Density (P/Km²)</th>\n",
       "    </tr>\n",
       "  </thead>\n",
       "  <tbody>\n",
       "    <tr>\n",
       "      <th>213</th>\n",
       "      <td>Monaco</td>\n",
       "      <td>26337</td>\n",
       "    </tr>\n",
       "    <tr>\n",
       "      <th>166</th>\n",
       "      <td>Macao</td>\n",
       "      <td>21645</td>\n",
       "    </tr>\n",
       "    <tr>\n",
       "      <th>113</th>\n",
       "      <td>Singapore</td>\n",
       "      <td>8358</td>\n",
       "    </tr>\n",
       "  </tbody>\n",
       "</table>\n",
       "</div>"
      ],
      "text/plain": [
       "    Country (or dependency)  Density (P/Km²)\n",
       "213                  Monaco            26337\n",
       "166                   Macao            21645\n",
       "113               Singapore             8358"
      ]
     },
     "execution_count": 47,
     "metadata": {},
     "output_type": "execute_result"
    }
   ],
   "source": [
    "data.sort_values(by='Density (P/Km²)',ascending=False)[['Country (or dependency)','Density (P/Km²)']].head(3)"
   ]
  },
  {
   "cell_type": "markdown",
   "id": "87ca29fe",
   "metadata": {},
   "source": [
    "### Country having highest fertility rate"
   ]
  },
  {
   "cell_type": "code",
   "execution_count": 52,
   "id": "176397b1",
   "metadata": {},
   "outputs": [],
   "source": [
    "data_max_fert = data.loc[data['Fert. Rate'] == data['Fert. Rate'].max()]"
   ]
  },
  {
   "cell_type": "code",
   "execution_count": 53,
   "id": "17c2f5fd",
   "metadata": {},
   "outputs": [
    {
     "data": {
      "text/html": [
       "<div>\n",
       "<style scoped>\n",
       "    .dataframe tbody tr th:only-of-type {\n",
       "        vertical-align: middle;\n",
       "    }\n",
       "\n",
       "    .dataframe tbody tr th {\n",
       "        vertical-align: top;\n",
       "    }\n",
       "\n",
       "    .dataframe thead th {\n",
       "        text-align: right;\n",
       "    }\n",
       "</style>\n",
       "<table border=\"1\" class=\"dataframe\">\n",
       "  <thead>\n",
       "    <tr style=\"text-align: right;\">\n",
       "      <th></th>\n",
       "      <th>Country (or dependency)</th>\n",
       "      <th>Population (2020)</th>\n",
       "      <th>Yearly Change</th>\n",
       "      <th>Net Change</th>\n",
       "      <th>Density (P/Km²)</th>\n",
       "      <th>Land Area (Km²)</th>\n",
       "      <th>Migrants (net)</th>\n",
       "      <th>Fert. Rate</th>\n",
       "      <th>Med. Age</th>\n",
       "      <th>Urban Pop %</th>\n",
       "      <th>World Share</th>\n",
       "    </tr>\n",
       "  </thead>\n",
       "  <tbody>\n",
       "    <tr>\n",
       "      <th>55</th>\n",
       "      <td>Niger</td>\n",
       "      <td>24206644</td>\n",
       "      <td>3.84</td>\n",
       "      <td>895929</td>\n",
       "      <td>19</td>\n",
       "      <td>1266700</td>\n",
       "      <td>4000.0</td>\n",
       "      <td>7.0</td>\n",
       "      <td>15.0</td>\n",
       "      <td>17.0</td>\n",
       "      <td>0.31</td>\n",
       "    </tr>\n",
       "  </tbody>\n",
       "</table>\n",
       "</div>"
      ],
      "text/plain": [
       "   Country (or dependency)  Population (2020)  Yearly Change  Net Change  \\\n",
       "55                   Niger           24206644           3.84      895929   \n",
       "\n",
       "    Density (P/Km²)  Land Area (Km²)  Migrants (net)  Fert. Rate  Med. Age  \\\n",
       "55               19          1266700          4000.0         7.0      15.0   \n",
       "\n",
       "    Urban Pop %  World Share  \n",
       "55         17.0         0.31  "
      ]
     },
     "execution_count": 53,
     "metadata": {},
     "output_type": "execute_result"
    }
   ],
   "source": [
    "data_max_fert"
   ]
  },
  {
   "cell_type": "code",
   "execution_count": 55,
   "id": "c4f7561b",
   "metadata": {},
   "outputs": [
    {
     "data": {
      "text/html": [
       "<div>\n",
       "<style scoped>\n",
       "    .dataframe tbody tr th:only-of-type {\n",
       "        vertical-align: middle;\n",
       "    }\n",
       "\n",
       "    .dataframe tbody tr th {\n",
       "        vertical-align: top;\n",
       "    }\n",
       "\n",
       "    .dataframe thead th {\n",
       "        text-align: right;\n",
       "    }\n",
       "</style>\n",
       "<table border=\"1\" class=\"dataframe\">\n",
       "  <thead>\n",
       "    <tr style=\"text-align: right;\">\n",
       "      <th></th>\n",
       "      <th>Country (or dependency)</th>\n",
       "      <th>Fert. Rate</th>\n",
       "    </tr>\n",
       "  </thead>\n",
       "  <tbody>\n",
       "    <tr>\n",
       "      <th>55</th>\n",
       "      <td>Niger</td>\n",
       "      <td>7.0</td>\n",
       "    </tr>\n",
       "  </tbody>\n",
       "</table>\n",
       "</div>"
      ],
      "text/plain": [
       "   Country (or dependency)  Fert. Rate\n",
       "55                   Niger         7.0"
      ]
     },
     "execution_count": 55,
     "metadata": {},
     "output_type": "execute_result"
    }
   ],
   "source": [
    "data.sort_values(by='Fert. Rate',ascending=False)[['Country (or dependency)','Fert. Rate']].head(1)"
   ]
  },
  {
   "cell_type": "markdown",
   "id": "93d7c8cb",
   "metadata": {},
   "source": [
    "Niger is having Highest fertility rate"
   ]
  },
  {
   "cell_type": "markdown",
   "id": "02ed9cd5",
   "metadata": {},
   "source": [
    "### Country having lowest fertility rate"
   ]
  },
  {
   "cell_type": "code",
   "execution_count": 56,
   "id": "914b5738",
   "metadata": {},
   "outputs": [
    {
     "data": {
      "text/html": [
       "<div>\n",
       "<style scoped>\n",
       "    .dataframe tbody tr th:only-of-type {\n",
       "        vertical-align: middle;\n",
       "    }\n",
       "\n",
       "    .dataframe tbody tr th {\n",
       "        vertical-align: top;\n",
       "    }\n",
       "\n",
       "    .dataframe thead th {\n",
       "        text-align: right;\n",
       "    }\n",
       "</style>\n",
       "<table border=\"1\" class=\"dataframe\">\n",
       "  <thead>\n",
       "    <tr style=\"text-align: right;\">\n",
       "      <th></th>\n",
       "      <th>Country (or dependency)</th>\n",
       "      <th>Population (2020)</th>\n",
       "      <th>Yearly Change</th>\n",
       "      <th>Net Change</th>\n",
       "      <th>Density (P/Km²)</th>\n",
       "      <th>Land Area (Km²)</th>\n",
       "      <th>Migrants (net)</th>\n",
       "      <th>Fert. Rate</th>\n",
       "      <th>Med. Age</th>\n",
       "      <th>Urban Pop %</th>\n",
       "      <th>World Share</th>\n",
       "    </tr>\n",
       "  </thead>\n",
       "  <tbody>\n",
       "    <tr>\n",
       "      <th>27</th>\n",
       "      <td>South Korea</td>\n",
       "      <td>51269185</td>\n",
       "      <td>0.09</td>\n",
       "      <td>43877</td>\n",
       "      <td>527</td>\n",
       "      <td>97230</td>\n",
       "      <td>11731.0</td>\n",
       "      <td>1.1</td>\n",
       "      <td>44.0</td>\n",
       "      <td>82.0</td>\n",
       "      <td>0.66</td>\n",
       "    </tr>\n",
       "  </tbody>\n",
       "</table>\n",
       "</div>"
      ],
      "text/plain": [
       "   Country (or dependency)  Population (2020)  Yearly Change  Net Change  \\\n",
       "27             South Korea           51269185           0.09       43877   \n",
       "\n",
       "    Density (P/Km²)  Land Area (Km²)  Migrants (net)  Fert. Rate  Med. Age  \\\n",
       "27              527            97230         11731.0         1.1      44.0   \n",
       "\n",
       "    Urban Pop %  World Share  \n",
       "27         82.0         0.66  "
      ]
     },
     "execution_count": 56,
     "metadata": {},
     "output_type": "execute_result"
    }
   ],
   "source": [
    "data_min_fert = data.loc[data['Fert. Rate'] == data['Fert. Rate'].min()]\n",
    "data_min_fert"
   ]
  },
  {
   "cell_type": "code",
   "execution_count": 57,
   "id": "9a703a90",
   "metadata": {},
   "outputs": [
    {
     "data": {
      "text/html": [
       "<div>\n",
       "<style scoped>\n",
       "    .dataframe tbody tr th:only-of-type {\n",
       "        vertical-align: middle;\n",
       "    }\n",
       "\n",
       "    .dataframe tbody tr th {\n",
       "        vertical-align: top;\n",
       "    }\n",
       "\n",
       "    .dataframe thead th {\n",
       "        text-align: right;\n",
       "    }\n",
       "</style>\n",
       "<table border=\"1\" class=\"dataframe\">\n",
       "  <thead>\n",
       "    <tr style=\"text-align: right;\">\n",
       "      <th></th>\n",
       "      <th>Country (or dependency)</th>\n",
       "      <th>Fert. Rate</th>\n",
       "    </tr>\n",
       "  </thead>\n",
       "  <tbody>\n",
       "    <tr>\n",
       "      <th>27</th>\n",
       "      <td>South Korea</td>\n",
       "      <td>1.1</td>\n",
       "    </tr>\n",
       "  </tbody>\n",
       "</table>\n",
       "</div>"
      ],
      "text/plain": [
       "   Country (or dependency)  Fert. Rate\n",
       "27             South Korea         1.1"
      ]
     },
     "execution_count": 57,
     "metadata": {},
     "output_type": "execute_result"
    }
   ],
   "source": [
    "data.sort_values(by='Fert. Rate')[['Country (or dependency)','Fert. Rate']].head(1)"
   ]
  },
  {
   "cell_type": "markdown",
   "id": "453460c0",
   "metadata": {},
   "source": [
    "South Korea is having lowest fertility rate"
   ]
  },
  {
   "cell_type": "markdown",
   "id": "fe36ea13",
   "metadata": {},
   "source": [
    "### Distribution of Population, median age and Urban population and Yearly change."
   ]
  },
  {
   "cell_type": "code",
   "execution_count": 72,
   "id": "4fae4138",
   "metadata": {},
   "outputs": [],
   "source": [
    "def plot_hist(column):\n",
    "    sns.histplot(data[column], kde=True);\n",
    "    sns.set(rc = {'figure.figsize':(10,8)})\n",
    "    plt.axvline(x=np.mean(data[column]), c='red', label='mean')\n",
    "    plt.axvline(x=np.median(data[column]),c='blue',alpha=0.5,ls='--',label='Median')\n",
    "    plt.xlabel(f'{column}',fontsize=16)\n",
    "    plt.ylabel('Count of {}'.format(column),fontsize=16)\n",
    "    plt.title('Distribution of {}'.format(column),fontsize=20)\n",
    "    plt.legend(fontsize=14)"
   ]
  },
  {
   "cell_type": "code",
   "execution_count": 73,
   "id": "1a6134e9",
   "metadata": {},
   "outputs": [
    {
     "data": {
      "image/png": "[encoded data removed]",
      "text/plain": [
       "<Figure size 720x576 with 1 Axes>"
      ]
     },
     "metadata": {},
     "output_type": "display_data"
    }
   ],
   "source": [
    "# distribution of population\n",
    "plot_hist('Population (2020)')"
   ]
  },
  {
   "cell_type": "code",
   "execution_count": 74,
   "id": "ef005a6e",
   "metadata": {},
   "outputs": [
    {
     "data": {
      "image/png": "[encoded data removed]",
      "text/plain": [
       "<Figure size 720x576 with 1 Axes>"
      ]
     },
     "metadata": {},
     "output_type": "display_data"
    }
   ],
   "source": [
    "# distribution of median age\n",
    "plot_hist('Med. Age')"
   ]
  },
  {
   "cell_type": "code",
   "execution_count": 75,
   "id": "42dabdee",
   "metadata": {},
   "outputs": [
    {
     "data": {
      "image/png": "[encoded data removed]",
      "text/plain": [
       "<Figure size 720x576 with 1 Axes>"
      ]
     },
     "metadata": {},
     "output_type": "display_data"
    }
   ],
   "source": [
    "# distribution of Urban Pop %\n",
    "plot_hist('Urban Pop %')"
   ]
  },
  {
   "cell_type": "code",
   "execution_count": 76,
   "id": "cde2a0bb",
   "metadata": {},
   "outputs": [
    {
     "data": {
      "image/png": "[encoded data removed]",
      "text/plain": [
       "<Figure size 720x576 with 1 Axes>"
      ]
     },
     "metadata": {},
     "output_type": "display_data"
    }
   ],
   "source": [
    "# distribution of Yearly change\n",
    "plot_hist('Yearly Change')"
   ]
  },
  {
   "cell_type": "markdown",
   "id": "3368cd2e",
   "metadata": {},
   "source": [
    "### sort the population column based on lowest populated countries"
   ]
  },
  {
   "cell_type": "code",
   "execution_count": 60,
   "id": "6910d55e",
   "metadata": {},
   "outputs": [
    {
     "data": {
      "text/html": [
       "<div>\n",
       "<style scoped>\n",
       "    .dataframe tbody tr th:only-of-type {\n",
       "        vertical-align: middle;\n",
       "    }\n",
       "\n",
       "    .dataframe tbody tr th {\n",
       "        vertical-align: top;\n",
       "    }\n",
       "\n",
       "    .dataframe thead th {\n",
       "        text-align: right;\n",
       "    }\n",
       "</style>\n",
       "<table border=\"1\" class=\"dataframe\">\n",
       "  <thead>\n",
       "    <tr style=\"text-align: right;\">\n",
       "      <th></th>\n",
       "      <th>Country (or dependency)</th>\n",
       "      <th>Population (2020)</th>\n",
       "    </tr>\n",
       "  </thead>\n",
       "  <tbody>\n",
       "    <tr>\n",
       "      <th>234</th>\n",
       "      <td>Holy See</td>\n",
       "      <td>801</td>\n",
       "    </tr>\n",
       "    <tr>\n",
       "      <th>233</th>\n",
       "      <td>Tokelau</td>\n",
       "      <td>1357</td>\n",
       "    </tr>\n",
       "    <tr>\n",
       "      <th>232</th>\n",
       "      <td>Niue</td>\n",
       "      <td>1626</td>\n",
       "    </tr>\n",
       "    <tr>\n",
       "      <th>231</th>\n",
       "      <td>Falkland Islands</td>\n",
       "      <td>3480</td>\n",
       "    </tr>\n",
       "    <tr>\n",
       "      <th>230</th>\n",
       "      <td>Montserrat</td>\n",
       "      <td>4992</td>\n",
       "    </tr>\n",
       "    <tr>\n",
       "      <th>229</th>\n",
       "      <td>Saint Pierre &amp; Miquelon</td>\n",
       "      <td>5794</td>\n",
       "    </tr>\n",
       "    <tr>\n",
       "      <th>228</th>\n",
       "      <td>Saint Helena</td>\n",
       "      <td>6077</td>\n",
       "    </tr>\n",
       "    <tr>\n",
       "      <th>227</th>\n",
       "      <td>Saint Barthelemy</td>\n",
       "      <td>9877</td>\n",
       "    </tr>\n",
       "    <tr>\n",
       "      <th>226</th>\n",
       "      <td>Nauru</td>\n",
       "      <td>10824</td>\n",
       "    </tr>\n",
       "    <tr>\n",
       "      <th>225</th>\n",
       "      <td>Wallis &amp; Futuna</td>\n",
       "      <td>11239</td>\n",
       "    </tr>\n",
       "  </tbody>\n",
       "</table>\n",
       "</div>"
      ],
      "text/plain": [
       "     Country (or dependency)  Population (2020)\n",
       "234                 Holy See                801\n",
       "233                  Tokelau               1357\n",
       "232                     Niue               1626\n",
       "231         Falkland Islands               3480\n",
       "230               Montserrat               4992\n",
       "229  Saint Pierre & Miquelon               5794\n",
       "228             Saint Helena               6077\n",
       "227         Saint Barthelemy               9877\n",
       "226                    Nauru              10824\n",
       "225          Wallis & Futuna              11239"
      ]
     },
     "execution_count": 60,
     "metadata": {},
     "output_type": "execute_result"
    }
   ],
   "source": [
    "data.sort_values(by='Population (2020)')[['Country (or dependency)','Population (2020)']].head(10)"
   ]
  },
  {
   "cell_type": "code",
   "execution_count": 79,
   "id": "19c63e08",
   "metadata": {},
   "outputs": [
    {
     "name": "stderr",
     "output_type": "stream",
     "text": [
      "<ipython-input-79-4ae56d26ebd1>:1: FutureWarning: As the xlwt package is no longer maintained, the xlwt engine will be removed in a future version of pandas. This is the only engine in pandas that supports writing in the xls format. Install openpyxl and write to an xlsx file instead. You can set the option io.excel.xls.writer to 'xlwt' to silence this warning. While this option is deprecated and will also raise a warning, it can be globally set and the warning suppressed.\n",
      "  data.to_excel('population dataset.xls')\n"
     ]
    }
   ],
   "source": [
    "data.to_excel('population dataset.xls')"
   ]
  },
  {
   "cell_type": "code",
   "execution_count": null,
   "id": "89acd975",
   "metadata": {},
   "outputs": [],
   "source": []
  }
 ],
 "metadata": {
  "kernelspec": {
   "display_name": "Python 3",
   "language": "python",
   "name": "python3"
  },
  "language_info": {
   "codemirror_mode": {
    "name": "ipython",
    "version": 3
   },
   "file_extension": ".py",
   "mimetype": "text/x-python",
   "name": "python",
   "nbconvert_exporter": "python",
   "pygments_lexer": "ipython3",
   "version": "3.8.8"
  }
 },
 "nbformat": 4,
 "nbformat_minor": 5
}
